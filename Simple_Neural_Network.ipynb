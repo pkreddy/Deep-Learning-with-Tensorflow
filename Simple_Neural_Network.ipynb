{
  "cells": [
    {
      "metadata": {
        "trusted": true
      },
      "cell_type": "code",
      "source": "import tensorflow as tf\nimport numpy as np\nimport math\nimport matplotlib.pyplot as plt",
      "execution_count": 16,
      "outputs": []
    },
    {
      "metadata": {},
      "cell_type": "markdown",
      "source": "### Let's try to compute AND operation using Mathematical function"
    },
    {
      "metadata": {
        "trusted": true
      },
      "cell_type": "markdown",
      "source": "<img src=\"nn_and.PNG\" width=\"50%\" height=\"50%\">\n<p> Credits: Andrew NG Machine Learning </p>"
    },
    {
      "metadata": {
        "trusted": true
      },
      "cell_type": "code",
      "source": "def hypothesis_function(x1,x2):\n    return -30 + x1 * 20 + 20 * x2\n\ndef sigmoid_function(x):\n    return 1/(1 + math.exp(-1 * x))",
      "execution_count": 17,
      "outputs": []
    },
    {
      "metadata": {
        "trusted": true
      },
      "cell_type": "code",
      "source": "print(\"x1 = 0 and x2 = 0\")\nround(sigmoid_function(hypothesis_function(0,0)))",
      "execution_count": 18,
      "outputs": [
        {
          "output_type": "stream",
          "text": "x1 = 0 and x2 = 0\n",
          "name": "stdout"
        },
        {
          "output_type": "execute_result",
          "execution_count": 18,
          "data": {
            "text/plain": "0"
          },
          "metadata": {}
        }
      ]
    },
    {
      "metadata": {
        "trusted": true
      },
      "cell_type": "code",
      "source": "print(\"x1 = 0 amd x2 = 1\")\nround(sigmoid_function(hypothesis_function(0,1)))",
      "execution_count": 19,
      "outputs": [
        {
          "output_type": "stream",
          "text": "x1 = 0 amd x2 = 1\n",
          "name": "stdout"
        },
        {
          "output_type": "execute_result",
          "execution_count": 19,
          "data": {
            "text/plain": "0"
          },
          "metadata": {}
        }
      ]
    },
    {
      "metadata": {
        "trusted": true
      },
      "cell_type": "code",
      "source": "print(\"x1 = 1 amd x2 = 0\")\nround(sigmoid_function(hypothesis_function(1,0)))",
      "execution_count": 20,
      "outputs": [
        {
          "output_type": "stream",
          "text": "x1 = 1 amd x2 = 0\n",
          "name": "stdout"
        },
        {
          "output_type": "execute_result",
          "execution_count": 20,
          "data": {
            "text/plain": "0"
          },
          "metadata": {}
        }
      ]
    },
    {
      "metadata": {
        "trusted": true
      },
      "cell_type": "code",
      "source": "print(\"x1 = 1 amd x2 = 1\")\nround(sigmoid_function(hypothesis_function(1,1)))",
      "execution_count": 21,
      "outputs": [
        {
          "output_type": "stream",
          "text": "x1 = 1 amd x2 = 1\n",
          "name": "stdout"
        },
        {
          "output_type": "execute_result",
          "execution_count": 21,
          "data": {
            "text/plain": "1"
          },
          "metadata": {}
        }
      ]
    },
    {
      "metadata": {},
      "cell_type": "markdown",
      "source": "### As you have seen above the mathematical function was able to compute and function\n### Let's try to implement a Simple Neural Network with out a hidden layer and check it it's able to compute a AND function by adjusting the weights automatically"
    },
    {
      "metadata": {},
      "cell_type": "markdown",
      "source": "#### We will create a neural network with\n- 2 inputs layers\n- 0 hidden layers\n- 1 output layer"
    },
    {
      "metadata": {
        "trusted": true
      },
      "cell_type": "code",
      "source": "#x inputs\nX = np.array([[0.,0.],[0.,1.],[1.,0.],[1.,1.]])\n\n#x output\ny_output = np.array([0.0,0.0,0.0,1.0])",
      "execution_count": 22,
      "outputs": []
    },
    {
      "metadata": {
        "trusted": true
      },
      "cell_type": "code",
      "source": "print(\"============input==========\")\nprint(X)\n\nprint(\"===========output==========\")\nprint(y_output)",
      "execution_count": 23,
      "outputs": [
        {
          "output_type": "stream",
          "text": "============input==========\n[[0. 0.]\n [0. 1.]\n [1. 0.]\n [1. 1.]]\n===========output==========\n[0. 0. 0. 1.]\n",
          "name": "stdout"
        }
      ]
    },
    {
      "metadata": {
        "trusted": true
      },
      "cell_type": "code",
      "source": "plt.scatter(X[:,0],X[:,1],c=y_output,label=['zero','one'])\nplt.show()",
      "execution_count": 24,
      "outputs": [
        {
          "output_type": "display_data",
          "data": {
            "image/png": "[encoded data removed]",
            "text/plain": "<Figure size 432x288 with 1 Axes>"
          },
          "metadata": {
            "needs_background": "light"
          }
        }
      ]
    },
    {
      "metadata": {
        "trusted": true
      },
      "cell_type": "code",
      "source": "#instead of using sigmoid we can use check function as well\ndef check(x):\n    return tf.to_float(tf.greater(x,0.5))",
      "execution_count": 25,
      "outputs": []
    },
    {
      "metadata": {
        "trusted": true
      },
      "cell_type": "code",
      "source": "sess = tf.Session()\n\n#Let's call weights of the input layer w and bias be b\nX = tf.convert_to_tensor(X, dtype=tf.float32)\ny_output = tf.reshape(tf.convert_to_tensor(y_output, dtype=tf.float32), [4,1])\nw = tf.Variable(tf.random_normal([2, 1]), dtype=tf.float32,name=\"weights\")\nb = tf.Variable(tf.random_normal([1]),dtype=tf.float32,name=\"bias\")\n\n#output\noutput = tf.sigmoid(tf.add(tf.matmul(X,w),b))\nerror = tf.subtract(y_output, output)\nmse = tf.reduce_mean(tf.square(error))\ndelta = tf.matmul(tf.transpose(X), error)\nadder = tf.add(w, delta)\ntrain = tf.assign(w, adder)\n\n\nsess.run(tf.global_variables_initializer())",
      "execution_count": 38,
      "outputs": []
    },
    {
      "metadata": {
        "trusted": true
      },
      "cell_type": "code",
      "source": "#err, target = 1, 0\nepoch, max_epochs = 0, 100\n\nwhile epoch < max_epochs:\n    epoch += 1\n    err, _ = sess.run([mse, train])\nprint('epoch:', epoch, 'mse:', err)\n\nWeights = np.array(sess.run(w))\nbias = np.array(sess.run(b))\n\nprint(Weights)\nprint(bias)",
      "execution_count": 39,
      "outputs": [
        {
          "output_type": "stream",
          "text": "epoch: 100 mse: 0.12610833\n[[0.88102305]\n [0.8810232 ]]\n[-1.3215346]\n",
          "name": "stdout"
        }
      ]
    },
    {
      "metadata": {
        "trusted": true
      },
      "cell_type": "code",
      "source": "X_input = np.array([[0.,0.],[0.,1.],[1.,0.],[1.,1.]])\n\ndef sigmoid_function(x):\n    return 1/(1 + np.exp(-1 * x))\n\nnp.round(sigmoid_function(np.matmul(X_input,Weights) + bias))",
      "execution_count": 40,
      "outputs": [
        {
          "output_type": "execute_result",
          "execution_count": 40,
          "data": {
            "text/plain": "array([[0.],\n       [0.],\n       [0.],\n       [1.]])"
          },
          "metadata": {}
        }
      ]
    },
    {
      "metadata": {
        "trusted": true
      },
      "cell_type": "code",
      "source": "sess.close()",
      "execution_count": 41,
      "outputs": []
    },
    {
      "metadata": {},
      "cell_type": "markdown",
      "source": "### Next we will try to implement the above code using cost and optimizers"
    },
    {
      "metadata": {
        "trusted": true
      },
      "cell_type": "code",
      "source": "",
      "execution_count": null,
      "outputs": []
    }
  ],
  "metadata": {
    "kernelspec": {
      "name": "python36",
      "display_name": "Python 3.6",
      "language": "python"
    },
    "language_info": {
      "mimetype": "text/x-python",
      "nbconvert_exporter": "python",
      "name": "python",
      "pygments_lexer": "ipython3",
      "version": "3.6.6",
      "file_extension": ".py",
      "codemirror_mode": {
        "version": 3,
        "name": "ipython"
      }
    }
  },
  "nbformat": 4,
  "nbformat_minor": 2
}