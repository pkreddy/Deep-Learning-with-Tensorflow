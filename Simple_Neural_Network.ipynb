{
  "cells": [
    {
      "metadata": {
        "trusted": true
      },
      "cell_type": "code",
      "source": "import tensorflow as tf\nimport numpy as np\nimport math\nimport matplotlib.pyplot as plt",
      "execution_count": 41,
      "outputs": []
    },
    {
      "metadata": {},
      "cell_type": "markdown",
      "source": "### Let's try to compute AND operation using Mathematical function"
    },
    {
      "metadata": {
        "trusted": true
      },
      "cell_type": "markdown",
      "source": "<img src=\"nn_and.PNG\" width=\"50%\" height=\"50%\">\n<p> Credits: Andrew NG Machine Learning </p>"
    },
    {
      "metadata": {
        "trusted": true
      },
      "cell_type": "code",
      "source": "def function(x1,x2):\n    #return -30 + x1 * 20 + 20 * x2\n    return -0.5 + x1 * 0.5 + 0.5 * x2\n\ndef sigmoid_function(x):\n    return 1/(1 + math.exp(-1 * x))",
      "execution_count": 42,
      "outputs": []
    },
    {
      "metadata": {
        "trusted": true
      },
      "cell_type": "code",
      "source": "print(\"x1 = 0 and x2 = 0\")\nround(sigmoid_function(function(0,0)))",
      "execution_count": 43,
      "outputs": [
        {
          "output_type": "stream",
          "text": "x1 = 0 and x2 = 0\n",
          "name": "stdout"
        },
        {
          "output_type": "execute_result",
          "execution_count": 43,
          "data": {
            "text/plain": "0"
          },
          "metadata": {}
        }
      ]
    },
    {
      "metadata": {
        "trusted": true
      },
      "cell_type": "code",
      "source": "print(\"x1 = 0 amd x2 = 1\")\nround(sigmoid_function(function(0,1)))",
      "execution_count": 44,
      "outputs": [
        {
          "output_type": "stream",
          "text": "x1 = 0 amd x2 = 1\n",
          "name": "stdout"
        },
        {
          "output_type": "execute_result",
          "execution_count": 44,
          "data": {
            "text/plain": "0"
          },
          "metadata": {}
        }
      ]
    },
    {
      "metadata": {
        "trusted": true
      },
      "cell_type": "code",
      "source": "print(\"x1 = 1 amd x2 = 0\")\nround(sigmoid_function(function(1,0)))",
      "execution_count": 45,
      "outputs": [
        {
          "output_type": "stream",
          "text": "x1 = 1 amd x2 = 0\n",
          "name": "stdout"
        },
        {
          "output_type": "execute_result",
          "execution_count": 45,
          "data": {
            "text/plain": "0"
          },
          "metadata": {}
        }
      ]
    },
    {
      "metadata": {
        "trusted": true
      },
      "cell_type": "code",
      "source": "print(\"x1 = 1 amd x2 = 1\")\nround(sigmoid_function(function(1,1)))",
      "execution_count": 46,
      "outputs": [
        {
          "output_type": "stream",
          "text": "x1 = 1 amd x2 = 1\n",
          "name": "stdout"
        },
        {
          "output_type": "execute_result",
          "execution_count": 46,
          "data": {
            "text/plain": "1"
          },
          "metadata": {}
        }
      ]
    },
    {
      "metadata": {},
      "cell_type": "markdown",
      "source": "### As you have seen above the mathematical function was able to compute and function\n### Let's try to implement a Simple Neural Network with out a hidden layer and check it it's able to compute a AND function by adjusting the weights automatically"
    },
    {
      "metadata": {},
      "cell_type": "markdown",
      "source": "#### We will create a neural network with\n- 2 inputs layers\n- 0 hidden layers\n- 1 output layer"
    },
    {
      "metadata": {
        "trusted": true
      },
      "cell_type": "code",
      "source": "#x inputs\nX = np.array([[0.,0.],[0.,1.],[1.,0.],[1.,1.]])\n\n#x output\ny_output = np.array([0.0,0.0,0.0,1.0])",
      "execution_count": 47,
      "outputs": []
    },
    {
      "metadata": {
        "trusted": true
      },
      "cell_type": "code",
      "source": "print(\"============input==========\")\nprint(X)\n\nprint(\"===========output==========\")\nprint(y_output)",
      "execution_count": 48,
      "outputs": [
        {
          "output_type": "stream",
          "text": "============input==========\n[[0. 0.]\n [0. 1.]\n [1. 0.]\n [1. 1.]]\n===========output==========\n[0. 0. 0. 1.]\n",
          "name": "stdout"
        }
      ]
    },
    {
      "metadata": {
        "trusted": true
      },
      "cell_type": "code",
      "source": "plt.scatter(X[:,0],X[:,1],c=y_output,label=['zero','one'])\nplt.show()",
      "execution_count": 49,
      "outputs": [
        {
          "output_type": "display_data",
          "data": {
            "image/png": "[encoded data removed]",
            "text/plain": "<Figure size 432x288 with 1 Axes>"
          },
          "metadata": {
            "needs_background": "light"
          }
        }
      ]
    },
    {
      "metadata": {
        "trusted": true
      },
      "cell_type": "code",
      "source": "#instead of using sigmoid we can use check function as well\ndef check(x):\n    return tf.to_float(tf.greater(x,0.5))",
      "execution_count": 50,
      "outputs": []
    },
    {
      "metadata": {
        "trusted": true
      },
      "cell_type": "code",
      "source": "sess = tf.Session()\n\n#Let's call weights of the input layer w and bias be b\nX = tf.convert_to_tensor(X, dtype=tf.float32)\ny_output = tf.reshape(tf.convert_to_tensor(y_output, dtype=tf.float32), [4,1])\nw = tf.Variable(tf.random_normal([2, 1]), dtype=tf.float32,name=\"weights\")\nb = tf.Variable(tf.random_normal([1]),dtype=tf.float32,name=\"bias\")\n\n#output\noutput = tf.sigmoid(tf.add(tf.matmul(X,w),b))\nerror = tf.subtract(y_output, output)\nmse = tf.reduce_mean(tf.square(error))\ndelta = tf.matmul(tf.transpose(X), error)\nadder = tf.add(w, delta)\ntrain = tf.assign(w, adder)\n\n\nsess.run(tf.global_variables_initializer())",
      "execution_count": 51,
      "outputs": []
    },
    {
      "metadata": {
        "trusted": true
      },
      "cell_type": "code",
      "source": "#err, target = 1, 0\nepoch, max_epochs = 0, 1000\n\nwhile epoch < max_epochs:\n    epoch += 1\n    err, _ = sess.run([mse, train])\nprint('epoch:', epoch, 'mse:', err)\n\nWeights = np.array(sess.run(w))\nbias = np.array(sess.run(b))\n\nprint(Weights)\nprint(bias)",
      "execution_count": 52,
      "outputs": [
        {
          "output_type": "stream",
          "text": "epoch: 1000 mse: 0.25848317\n[[-0.04475254]\n [-0.04475254]]\n[0.06712872]\n",
          "name": "stdout"
        }
      ]
    },
    {
      "metadata": {
        "trusted": true
      },
      "cell_type": "code",
      "source": "X_input = np.array([[0.,0.],[0.,1.],[1.,0.],[1.,1.]])\n\ndef sigmoid_function(x):\n    return 1/(1 + np.exp(-1 * x))\nprint(sigmoid_function(np.matmul(X_input,Weights) + bias))\nprint(np.round(sigmoid_function(np.matmul(X_input,Weights) + bias)))",
      "execution_count": 53,
      "outputs": [
        {
          "output_type": "stream",
          "text": "[[0.51677588]\n [0.50559381]\n [0.50559381]\n [0.49440614]]\n[[1.]\n [1.]\n [1.]\n [0.]]\n",
          "name": "stdout"
        }
      ]
    },
    {
      "metadata": {
        "trusted": true
      },
      "cell_type": "code",
      "source": "sess.close()",
      "execution_count": 54,
      "outputs": []
    },
    {
      "metadata": {},
      "cell_type": "markdown",
      "source": "### Next we will try to implement the above code using gradient descent optimizers and trying to reduce the loss"
    },
    {
      "metadata": {
        "trusted": true
      },
      "cell_type": "code",
      "source": "#we will use graph here\n#a default graph even if we don't create a any graph\ngraph1 = tf.Graph()\n#with graph1.as",
      "execution_count": 55,
      "outputs": []
    },
    {
      "metadata": {
        "trusted": true
      },
      "cell_type": "code",
      "source": "#with graph1.as_default():\nX = tf.constant([[0.,0.],[0.,1.],[1.,0.],[1.,1.]], dtype=tf.float32, name = \"X\")\ny_output = tf.constant([0.0,0.0,0.0,1.0], dtype=tf.float32, name=\"y_output\")\n\n#X = tf.constant([[0,0],[0,1],[1,0],[1,1]], dtype=tf.int8, name = \"X\")\n#y_output = tf.constant([0,0,0,1], dtype=tf.int8, name=\"y_output\")\n\nb = 10 * tf.Variable(tf.random_normal([1],stddev = 1.0 , mean=0.0),dtype=tf.float32,name=\"bias\")\n#w = tf.Variable(tf.random_normal([2, 1] ,stddev = 1.0 , mean=0.0), dtype=tf.float32,name=\"weights\")\nw1 = 10 * tf.Variable(tf.random_normal([1,1] ,stddev = 1.0 , mean=0.0), dtype=tf.float32,name=\"weights\")\nw2 = 10 * tf.Variable(tf.random_normal([1,1] ,stddev = 1.0 , mean=0.0), dtype=tf.float32,name=\"weights\")\nw = tf.concat([w1,w2],0)\n\n#output = tf.math.sign(tf.add(tf.matmul(X,w),b))\noutput = tf.sigmoid(tf.add(tf.matmul(X,w),b))\n#mse = tf.subtract(y_output, output)\nerror = tf.subtract(y_output, output)\nmse = tf.reduce_mean(tf.square(error))\noptimizer = tf.train.GradientDescentOptimizer(0.8)\ntrain = optimizer.minimize(mse)",
      "execution_count": 103,
      "outputs": []
    },
    {
      "metadata": {
        "trusted": true
      },
      "cell_type": "code",
      "source": "init = tf.global_variables_initializer()\nsess = tf.Session()\nsess.run(init)\nmse_values = 1\nmse_val = []\nmax_epochs = 100\nepochs = 0\nwhile  max_epochs > epochs and mse_values > 0.17:\n#while mse_values > 0.17:\n    #_,mse_values = sess.run()\n    _,mse_values = sess.run([train,mse])\n    mse_val.append(mse_values)\n    #print(mse_values)\n    epochs += 1\nbias = sess.run(b)\n#Weights = np.array([sess.run(w1),sess.run(w2)])\nWeights = np.array(sess.run(w))\n\nprint(bias)\nprint(Weights)\nprint(mse_values)\nprint(epochs)",
      "execution_count": 104,
      "outputs": [
        {
          "output_type": "stream",
          "text": "[9.049087]\n[[-0.56193495]\n [ 4.354837  ]]\n0.74987876\n100\n",
          "name": "stdout"
        }
      ]
    },
    {
      "metadata": {
        "trusted": true
      },
      "cell_type": "code",
      "source": "X_input = np.array([[0.,0.],[0.,1.],[1.,0.],[1.,1.]])\n\ndef sigmoid_function(x):\n    return 1/(1 + np.exp(-1 * x))\nprint(np.matmul(X_input,Weights) + bias)\nprint(sigmoid_function(np.matmul(X_input,Weights) + bias))\nnp.round(sigmoid_function(np.matmul(X_input,Weights) + bias))\n",
      "execution_count": 105,
      "outputs": [
        {
          "output_type": "stream",
          "text": "[[ 9.04908657]\n [13.40392351]\n [ 8.48715162]\n [12.84198856]]\n[[0.99988252]\n [0.99999849]\n [0.99979394]\n [0.99999735]]\n",
          "name": "stdout"
        },
        {
          "output_type": "execute_result",
          "execution_count": 105,
          "data": {
            "text/plain": "array([[1.],\n       [1.],\n       [1.],\n       [1.]])"
          },
          "metadata": {}
        }
      ]
    },
    {
      "metadata": {
        "trusted": true
      },
      "cell_type": "code",
      "source": "sess.close()",
      "execution_count": null,
      "outputs": []
    },
    {
      "metadata": {
        "trusted": true
      },
      "cell_type": "code",
      "source": "",
      "execution_count": null,
      "outputs": []
    },
    {
      "metadata": {},
      "cell_type": "markdown",
      "source": "with tf.Session(graph=graph1) as sess:\n    sess.run(init)\n    mse_val = []\n    for step in range(20):\n        #_,mse_values = sess.run()\n        sess.run([train,mse,error,output])\n        #mse_val.append(mse_values)\n        #print(mse_values)"
    },
    {
      "metadata": {
        "trusted": true
      },
      "cell_type": "code",
      "source": "",
      "execution_count": null,
      "outputs": []
    },
    {
      "metadata": {
        "trusted": true
      },
      "cell_type": "code",
      "source": "help (tf.random_normal)",
      "execution_count": null,
      "outputs": []
    },
    {
      "metadata": {
        "trusted": true
      },
      "cell_type": "code",
      "source": "round(sigmoid_function(0.4))",
      "execution_count": null,
      "outputs": []
    }
  ],
  "metadata": {
    "kernelspec": {
      "name": "python36",
      "display_name": "Python 3.6",
      "language": "python"
    },
    "language_info": {
      "mimetype": "text/x-python",
      "nbconvert_exporter": "python",
      "name": "python",
      "pygments_lexer": "ipython3",
      "version": "3.6.6",
      "file_extension": ".py",
      "codemirror_mode": {
        "version": 3,
        "name": "ipython"
      }
    }
  },
  "nbformat": 4,
  "nbformat_minor": 2
}